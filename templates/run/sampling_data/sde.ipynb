{
 "cells": [
  {
   "cell_type": "markdown",
   "metadata": {},
   "source": [
    "### Load packages"
   ]
  },
  {
   "cell_type": "code",
   "execution_count": null,
   "metadata": {},
   "outputs": [],
   "source": [
    "import matplotlib.pyplot as plt\n",
    "from mpl_toolkits.mplot3d import Axes3D\n",
    "import matplotlib.colors as colors\n",
    "import matplotlib as mpl\n",
    "import numpy as np\n",
    "import pandas as pd\n",
    "import math\n",
    "import seaborn as sns\n",
    "import os"
   ]
  },
  {
   "cell_type": "markdown",
   "metadata": {},
   "source": [
    "### Set variables"
   ]
  },
  {
   "cell_type": "code",
   "execution_count": null,
   "metadata": {},
   "outputs": [],
   "source": [
    "is_deactivate_warning = True\n",
    "is_savefigs = True\n",
    "\n",
    "output_path = './'\n",
    "run_name = 'output'\n",
    "\n",
    "if is_savefigs :\n",
    "    fig_path = './figs/'\n",
    "    if not os.path.exists(fig_path) :\n",
    "        os.makedirs(fig_path)\n",
    "        \n",
    "if is_deactivate_warning :\n",
    "    import warnings\n",
    "    warnings.filterwarnings(\"ignore\")    "
   ]
  },
  {
   "cell_type": "markdown",
   "metadata": {},
   "source": [
    "### read 2d output\n",
    "   e.g. *.pmf or *.hist.pmf"
   ]
  },
  {
   "cell_type": "code",
   "execution_count": null,
   "metadata": {},
   "outputs": [],
   "source": [
    "prefix = '' #'.hist'\n",
    "name_list = ['count', 'zcount', 'grad', 'zgrad', 'czar.grad', 'pmf', 'czar.pmf', 'histogram1.dat']\n",
    "name_id = 0\n",
    "name = name_list[name_id]\n",
    "data_file = '%s/%s%s.%s' % (output_path,run_name, prefix, name)\n",
    "print (data_file)\n",
    "\n",
    "file = open(data_file, 'r')\n",
    "line = file.readline()\n",
    "ncv = int (line.split()[1])\n",
    "print ('ncv=', ncv)\n",
    "line = file.readline()\n",
    "cv1 = [float (x) for x in line.split()[1:]]\n",
    "print (cv1)\n",
    "n1 = int (cv1[2]) \n",
    "xl = cv1[0]\n",
    "w= cv1[1]\n",
    "\n",
    "if ncv == 2 :\n",
    "    line = file.readline()\n",
    "    cv2 = [float (x) for x in line.split()[1:]]\n",
    "    n2 = int (cv2[2])\n",
    "    yl = cv2[0]\n",
    "    h = cv2[1]\n",
    "    print ('cv2:', cv2)        \n",
    "    gridx = np.loadtxt(data_file, max_rows=n1*n2, usecols=(0)).reshape(n1,n2)\n",
    "    gridy = np.loadtxt(data_file, max_rows=n1*n2, usecols=(1)).reshape(n1,n2)\n",
    "    \n",
    "else :\n",
    "    gridx = np.loadtxt(data_file, usecols=(0)).reshape(n1,1)\n",
    "\n",
    "file.close()   "
   ]
  },
  {
   "cell_type": "code",
   "execution_count": null,
   "metadata": {},
   "outputs": [],
   "source": [
    "# read data\n",
    "if ncv == 2 :\n",
    "    if 'grad' in name:\n",
    "        data_vec = np.loadtxt(data_file, usecols=(2,3)).reshape(-1, n1 * n2, 2)\n",
    "    else :\n",
    "        data_vec = np.loadtxt(data_file, usecols=2).reshape(-1, n1 * n2, 1)\n",
    "else :\n",
    "    data_vec = np.loadtxt(data_file, usecols=1).reshape(n1,1)\n",
    "    \n",
    "print (data_vec.shape)"
   ]
  },
  {
   "cell_type": "code",
   "execution_count": null,
   "metadata": {},
   "outputs": [],
   "source": [
    "# plot \n",
    "\n",
    "fig, ax = plt.subplots(1,1, figsize=(7, 6))\n",
    "\n",
    "if ncv == 2:\n",
    "    tidx = -1\n",
    "    if 'grad' in name :\n",
    "        U = data_vec[tidx, :, 0].reshape(n1, n2)\n",
    "        V = data_vec[tidx, :, 1].reshape(n1, n2)\n",
    "        ax.quiver(gridx, gridy, U, V, angles='xy', scale=1000.0)\n",
    "        ax.set_xlim(xl, xl+n1*w)\n",
    "        ax.set_ylim(yl, yl+n2*h)\n",
    "        ax.set_title(name)\n",
    "        if is_savefigs:\n",
    "            fig.savefig('%s/%s_grad_field.png' % (fig_path, run_name))    \n",
    "    else :\n",
    "        vmax=data_vec[tidx].max()\n",
    "        if name in ['count', 'zcount']:\n",
    "            cnorm = colors.LogNorm(1, vmax)  \n",
    "        else :\n",
    "            cnorm = colors.Normalize(0, vmax)\n",
    "\n",
    "        im = ax.pcolormesh(gridx, gridy, data_vec[tidx,:,0].reshape(n1, n2), cmap=mpl.cm.jet, norm=cnorm)   \n",
    "        fig.colorbar(im, ax=ax)\n",
    "        ax.set_title(name)\n",
    "\n",
    "    xval = 0\n",
    "    fig, ax = plt.subplots(1,1, figsize=(6, 6))\n",
    "    idx = int((xval-xl) / w)\n",
    "    ypos = [yl + h * (i+0.5) for i in range(n2)]\n",
    "    ax.plot(ypos, data_vec[tidx,:,1].reshape(n1, n2)[idx,:], marker='s')\n",
    "    ax.set_title(name)\n",
    "    \n",
    "else :\n",
    "    ax.plot(gridx, data_vec[:,0], marker='s')\n",
    "    ax.set_title(name)\n"
   ]
  },
  {
   "cell_type": "markdown",
   "metadata": {},
   "source": [
    "### ABF traj"
   ]
  },
  {
   "cell_type": "code",
   "execution_count": null,
   "metadata": {
    "scrolled": true
   },
   "outputs": [],
   "source": [
    "cv_traj_file = './%s.colvars.traj' % (run_name)\n",
    "print (cv_traj_file)\n",
    "cv_traj_data = np.loadtxt(cv_traj_file)\n",
    "\n",
    "line = open(cv_traj_file, 'r').readline()\n",
    "col_names=line.split()[1:]\n",
    "print (col_names)\n",
    "ncol_per_cv = int ((len(col_names) - 1) / 2) \n",
    "\n",
    "cv_df = pd.DataFrame(cv_traj_data, columns=col_names)\n",
    "print (cv_df.describe())\n",
    "print (cv_df.columns)\n",
    "\n",
    "cv_df.plot(x='step', y=[col_names[1], col_names[1+ncol_per_cv]])\n"
   ]
  },
  {
   "cell_type": "markdown",
   "metadata": {},
   "source": [
    "### For metadynamics"
   ]
  },
  {
   "cell_type": "code",
   "execution_count": null,
   "metadata": {},
   "outputs": [],
   "source": [
    "pmf_file = '%s/%s.pmf' % (output_path, run_name)\n",
    "pmf_raw_data = np.loadtxt(pmf_file)\n",
    "file = open(pmf_file, 'r')\n",
    "line = file.readline()\n",
    "ncv = int (line.split()[1])\n",
    "print ('ncv=', ncv)\n",
    "\n",
    "line = file.readline()\n",
    "cv1 = [float (x) for x in line.split()[1:]]\n",
    "n1 = int (cv1[2]) \n",
    "line = file.readline()\n",
    "cv2 = [float (x) for x in line.split()[1:]]\n",
    "n2 = int (cv2[2])\n",
    "print (cv1, cv2)\n",
    "file.close()\n",
    "\n",
    "vmin=min(pmf_raw_data[:,2])\n",
    "vmax=10 #max(pmf_raw_data[:,2])\n",
    "print (\"pmf range: [%.1f, %.1f]\" % (vmin, vmax))\n",
    "\n",
    "fig = plt.figure()    \n",
    "im=plt.pcolormesh(pmf_raw_data[:,0].reshape(n1, n2), pmf_raw_data[:,1].reshape(n1,n2), \\\n",
    "                  pmf_raw_data[:,2].reshape(n1, n2), cmap='jet', vmax=vmax)\n",
    "plt.title('ABF PMF')\n",
    "plt.xlabel(r'$\\phi$')\n",
    "plt.ylabel(r'$\\psi$')\n",
    "plt.colorbar(im)"
   ]
  },
  {
   "cell_type": "markdown",
   "metadata": {},
   "source": [
    "### ABF count and pmf"
   ]
  },
  {
   "cell_type": "code",
   "execution_count": null,
   "metadata": {
    "scrolled": true
   },
   "outputs": [],
   "source": [
    "def plot_abf(filename, ax, vmax=-1, log_scale=False, cmap=mpl.cm.jet, cnorm=None):\n",
    "    file = open(filename, 'r')\n",
    "    line = file.readline()\n",
    "    ncv = int (line.split()[1])\n",
    "    print ('ncv=', ncv)\n",
    "    line = file.readline()\n",
    "    cv1 = [float (x) for x in line.split()[1:]]\n",
    "    n1 = int (cv1[2]) \n",
    "    print ('cv1:', cv1)   \n",
    "    \n",
    "    if ncv > 1 :\n",
    "        line = file.readline()\n",
    "        cv2 = [float (x) for x in line.split()[1:]]\n",
    "        n2 = int (cv2[2])\n",
    "        print ('cv2:', cv2)        \n",
    "    file.close()\n",
    "    \n",
    "    raw_data = np.loadtxt(filename)\n",
    "    \n",
    "    if ncv == 2 :    \n",
    "        if vmax < 0 :\n",
    "            vmax = raw_data[:,-1].max()          \n",
    "        if cnorm is None :    \n",
    "            if log_scale == False :      \n",
    "                cnorm = colors.Normalize(0, vmax)\n",
    "            else :\n",
    "                cnorm = colors.LogNorm(1, vmax)                        \n",
    "        im = ax.pcolormesh(raw_data[:,0].reshape(n1, n2), raw_data[:,1].reshape(n1,n2), raw_data[:,2].reshape(n1, n2), norm=cnorm, cmap=cmap)        \n",
    "    else :\n",
    "        im = ax.plot(raw_data[:,0], raw_data[:,1])  \n",
    "        true_v = 0.25 * (raw_data[:,0]**2-1.0)**2\n",
    "        ax.plot(raw_data[:,0], true_v, c='r')        \n",
    "\n",
    "    return ncv, im\n",
    "\n",
    "xlabel = [r'cv1']\n",
    "    \n",
    "fig, ax = plt.subplots(1,1, figsize=(5, 4))\n",
    "\n",
    "# count\n",
    "ncv, im = plot_abf('%s/%s.count' % (output_path, run_name), ax, 10000, False)\n",
    "\n",
    "ax.set_title('ABF count')\n",
    "\n",
    "ax.set_xlabel(xlabel, labelpad=-1)\n",
    "ax.set_xlim(xl, xl+n1*w)\n",
    "\n",
    "if ncv == 2:\n",
    "    fig.colorbar(im, ax=ax)\n",
    "    ax.set_ylabel(ylabel, labelpad=ypad)\n",
    "    ax.set_ylim(yl, yl+n2*h)\n",
    "\n",
    "if is_savefigs:\n",
    "    fig.savefig('%s/%s_count.png' % (fig_path, run_name))\n",
    "\n",
    "fig, ax = plt.subplots(1,1, figsize=(5, 4))\n",
    "\n",
    "# count\n",
    "ncv, im = plot_abf('%s/%s.zcount' % (output_path, run_name), ax, 10000, False)\n",
    "\n",
    "ax.set_title('ABF zcount')\n",
    "ax.set_xlabel(xlabel, labelpad=-1)\n",
    "ax.set_xlim(xl, xl+n1*w)\n",
    "\n",
    "if ncv == 2:\n",
    "    fig.colorbar(im, ax=ax)\n",
    "    ax.set_ylabel(ylabel, labelpad=ypad)\n",
    "    ax.set_ylim(yl, yl+n2*h)\n",
    "\n",
    "if is_savefigs:\n",
    "    fig.savefig('%s/%s_zcount.png' % (fig_path, run_name))\n",
    "    \n",
    "fig, ax = plt.subplots(1,1, figsize=(5, 4))\n",
    "   \n",
    "cmap = mpl.cm.turbo\n",
    "bounds=[0,2,4,6,8,10,12,14]\n",
    "cnorm = colors.BoundaryNorm(bounds, cmap.N) \n",
    "\n",
    "ncv, im = plot_abf('%s/%s.czar.pmf' % (output_path, run_name), ax, 12, False, cmap, None)\n",
    "ax.set_title('ABF CZAR PMF')\n",
    "ax.set_xlim(xl, xl+n1*w)\n",
    "ax.set_xlabel(xlabel, labelpad=-1)\n",
    "\n",
    "if ncv == 2:   \n",
    "    ax.set_ylabel(ylabel, labelpad=ypad)    \n",
    "    ax.set_ylim(yl, yl+n2*h)    \n",
    "    cb=fig.colorbar(im, ax=ax)\n",
    "    cb.ax.set_title('kcal/mol')\n",
    "    \n",
    "\n",
    "if is_savefigs:\n",
    "    fig.savefig('%s/%s_czar_pmf.png' % (fig_path, run_name))\n"
   ]
  },
  {
   "cell_type": "code",
   "execution_count": null,
   "metadata": {},
   "outputs": [],
   "source": [
    "traj_file = '%s/%s.txt' % (output_path, run_name)\n",
    "traj_raw_data = np.loadtxt(traj_file)\n",
    "fig, ax = plt.subplots(1,1, figsize=(5, 4))\n",
    "ax.scatter(traj_raw_data[:,1], traj_raw_data[:,2])\n",
    "ax.set_xlim([-1.5, 1.5])\n",
    "ax.set_ylim([-0.5, 2.0])\n"
   ]
  },
  {
   "cell_type": "code",
   "execution_count": null,
   "metadata": {},
   "outputs": [],
   "source": []
  },
  {
   "cell_type": "code",
   "execution_count": null,
   "metadata": {},
   "outputs": [],
   "source": []
  }
 ],
 "metadata": {
  "kernelspec": {
   "display_name": "Python 3 (ipykernel)",
   "language": "python",
   "name": "python3"
  },
  "language_info": {
   "codemirror_mode": {
    "name": "ipython",
    "version": 3
   },
   "file_extension": ".py",
   "mimetype": "text/x-python",
   "name": "python",
   "nbconvert_exporter": "python",
   "pygments_lexer": "ipython3",
   "version": "3.10.8"
  },
  "latex_envs": {
   "LaTeX_envs_menu_present": true,
   "autoclose": false,
   "autocomplete": true,
   "bibliofile": "biblio.bib",
   "cite_by": "apalike",
   "current_citInitial": 1,
   "eqLabelWithNumbers": true,
   "eqNumInitial": 1,
   "hotkeys": {
    "equation": "Ctrl-E",
    "itemize": "Ctrl-I"
   },
   "labels_anchors": false,
   "latex_user_defs": false,
   "report_style_numbering": false,
   "user_envs_cfg": false
  }
 },
 "nbformat": 4,
 "nbformat_minor": 2
}
